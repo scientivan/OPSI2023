{
 "cells": [
  {
   "cell_type": "code",
   "execution_count": null,
   "metadata": {},
   "outputs": [],
   "source": [
    "import tensorflow as tf\n",
    "from tensorflow import keras\n",
    "import cv2\n",
    "import numpy as np\n",
    "import os\n"
   ]
  },
  {
   "cell_type": "code",
   "execution_count": null,
   "metadata": {},
   "outputs": [],
   "source": [
    "IMAGE_SIZE = (100,100)\n",
    "def load_images():\n",
    "    image = []\n",
    "    label = []\n",
    "    image_path = []\n",
    "    TRAIN_FOLDER_PATH = \"C:/Users/pc/Documents/pythonProjects/OPSI2023/images/train\" #ada sebanyak 3421 image\n",
    "    TEST_FOLDER_PATH = \"C:/Users/pc/Documents/pythonProjects/OPSI2023/images/test\" #ada sebanyak 1871 image, total ada 5292 images\n",
    "    for folder_name in os.listdir(TRAIN_FOLDER_PATH):\n",
    "        for filename in os.listdir(os.path.join(TRAIN_FOLDER_PATH,folder_name)):\n",
    "            print(filename)\n",
    "            subfolder_path = os.path.join(folder_name,filename)\n",
    "            img = cv2.imread(os.path.join(TRAIN_FOLDER_PATH,subfolder_path))\n",
    "            img = cv2.resize(img,IMAGE_SIZE)\n",
    "            image.append(img)\n",
    "            label.append(folder_name)\n",
    "            image_path.append(os.path.join(TRAIN_FOLDER_PATH,subfolder_path))\n",
    "\n",
    "    for folder_name in os.listdir(TEST_FOLDER_PATH):\n",
    "        for filename in os.listdir(os.path.join(TEST_FOLDER_PATH,folder_name)):\n",
    "            print(filename)\n",
    "            subfolder_path = os.path.join(folder_name,filename)\n",
    "            img = cv2.imread(os.path.join(TEST_FOLDER_PATH,subfolder_path))\n",
    "            img = cv2.resize(img,IMAGE_SIZE)\n",
    "            image.append(img)\n",
    "            label.append(folder_name)\n",
    "            image_path.append(os.path.join(TEST_FOLDER_PATH,subfolder_path))\n",
    "    image = np.array(image)\n",
    "    return image,label, image_path"
   ]
  },
  {
   "cell_type": "code",
   "execution_count": null,
   "metadata": {},
   "outputs": [],
   "source": [
    "image,label, image_path = load_images()"
   ]
  },
  {
   "cell_type": "code",
   "execution_count": null,
   "metadata": {},
   "outputs": [],
   "source": [
    "print(len(image)) #banyaknya data gambar untuk train session\n",
    "print(label)\n",
    "print(len(label))\n",
    "image.shape"
   ]
  },
  {
   "cell_type": "code",
   "execution_count": null,
   "metadata": {},
   "outputs": [],
   "source": [
    "# i = 5000\n",
    "# print(label[i])\n",
    "# cv2.imshow('image',image[i])\n",
    "# cv2.waitKey(0)"
   ]
  },
  {
   "cell_type": "code",
   "execution_count": null,
   "metadata": {},
   "outputs": [],
   "source": [
    "from sklearn.preprocessing import OneHotEncoder\n",
    "label_encoder = OneHotEncoder()\n",
    "new_label = np.reshape(label,(-1,1))\n",
    "new_label = label_encoder.fit_transform(new_label).toarray()"
   ]
  },
  {
   "cell_type": "code",
   "execution_count": null,
   "metadata": {},
   "outputs": [],
   "source": [
    "print(new_label)\n",
    "print(len(new_label [0]))\n",
    "print(new_label .shape)\n",
    "# new_label = np.resize(new_label,(5292,10))\n",
    "print(new_label.shape)\n",
    "new_label[0]"
   ]
  },
  {
   "cell_type": "code",
   "execution_count": null,
   "metadata": {},
   "outputs": [],
   "source": [
    "from keras.preprocessing.image import ImageDataGenerator\n",
    "augmentation = ImageDataGenerator(\n",
    "    zoom_range=0.2,\n",
    "    shear_range=0.2,\n",
    "    horizontal_flip=True\n",
    ")"
   ]
  },
  {
   "cell_type": "code",
   "execution_count": null,
   "metadata": {},
   "outputs": [],
   "source": [
    "from sklearn.model_selection import train_test_split\n",
    "x_train,x_test,y_train,y_test = train_test_split(image,new_label,test_size=0.2,random_state=3)"
   ]
  },
  {
   "cell_type": "code",
   "execution_count": null,
   "metadata": {},
   "outputs": [],
   "source": [
    "model_lenet5_optimized = keras.Sequential()\n",
    "model_lenet5_optimized.add(keras.layers.Conv2D(filters=6, kernel_size=(5, 5), activation='relu', input_shape=(100,100, 3)))\n",
    "model_lenet5_optimized.add(keras.layers.AveragePooling2D(pool_size=(2, 2), strides=2))\n",
    "model_lenet5_optimized.add(keras.layers.Conv2D(filters=16, kernel_size=(5, 5), activation='relu'))\n",
    "model_lenet5_optimized.add(keras.layers.AveragePooling2D(pool_size=(2, 2), strides=2))\n",
    "model_lenet5_optimized.add(keras.layers.Flatten())\n",
    "\n",
    "model_lenet5_optimized.add(keras.layers.Dense(units=120, activation='relu'))\n",
    "model_lenet5_optimized.add(keras.layers.Dense(units=84, activation='relu'))\n",
    "model_lenet5_optimized.add(keras.layers.Dense(units=6, activation='softmax'))\n",
    "\n",
    "model_lenet5_optimized.compile(optimizer=keras.optimizers.Adam(learning_rate=0.0001), loss='categorical_crossentropy', metrics=['accuracy'])\n",
    "model_lenet5_optimized.summary()"
   ]
  },
  {
   "cell_type": "code",
   "execution_count": null,
   "metadata": {},
   "outputs": [],
   "source": [
    "history = model_lenet5_optimized.fit(augmentation.flow(x_train, y_train, batch_size=32),validation_data=(x_test,y_test),epochs=10)"
   ]
  },
  {
   "cell_type": "code",
   "execution_count": null,
   "metadata": {},
   "outputs": [],
   "source": [
    "import matplotlib.pyplot as plt\n",
    "\n",
    "# Plotting the loss curve\n",
    "plt.figure(figsize=[6,4])\n",
    "plt.plot(history.history['loss'], 'black', linewidth=2.0)\n",
    "plt.plot(history.history['val_loss'], 'blue', linewidth=2.0)\n",
    "plt.legend(['Training Loss', 'Validation Loss'], fontsize=14)\n",
    "plt.xlabel('Epochs', fontsize=10)\n",
    "plt.ylabel('Loss', fontsize=10)\n",
    "plt.title('Loss Pada Training Session', fontsize=10)\n",
    "\n",
    "# Plotting the accuracy curve\n",
    "plt.figure(figsize=[6,4])\n",
    "plt.plot(history.history['accuracy'], 'black', linewidth=2.0)\n",
    "plt.plot(history.history['val_accuracy'], 'blue', linewidth=2.0)\n",
    "plt.legend(['Training Accuracy', 'Validation Accuracy'], fontsize=14)\n",
    "plt.xlabel('Epochs', fontsize=10)\n",
    "plt.ylabel('Accuracy', fontsize=10)\n",
    "plt.title('Akurasi Pada Training Session',fontsize=10)"
   ]
  },
  {
   "cell_type": "code",
   "execution_count": null,
   "metadata": {},
   "outputs": [],
   "source": [
    "model_lenet5_optimized.evaluate(x_test,y_test)"
   ]
  },
  {
   "cell_type": "code",
   "execution_count": null,
   "metadata": {},
   "outputs": [],
   "source": [
    "model_lenet5_optimized.save('lenet5augmented.h5')"
   ]
  },
  {
   "cell_type": "code",
   "execution_count": null,
   "metadata": {},
   "outputs": [],
   "source": [
    "prediction = model_lenet5_optimized.predict(x_test)\n",
    "prediction"
   ]
  },
  {
   "cell_type": "code",
   "execution_count": null,
   "metadata": {},
   "outputs": [],
   "source": [
    "jenis_kanker = [\"Adenocarcinoma\",\"Kanker Ganas\",\"Kanker Jinak\", \"Sehat\", \"Sel Besar Karsinoma\", \"Sel Besar Skuamous\"]\n",
    "banyak_kesalahan = 0\n",
    "for i in range(len(prediction)):\n",
    "    if jenis_kanker[np.argmax(prediction[i])] != jenis_kanker[np.argmax(y_test[i])]:\n",
    "        banyak_kesalahan += 1\n",
    "        print(\"data ke :\",  i+1)\n",
    "        print(\"Prediction : \" + jenis_kanker[np.argmax(prediction[i])])\n",
    "        print(\"Kunci Jawaban: \",jenis_kanker[np.argmax(y_test[i])])\n",
    "        print()\n",
    "print(banyak_kesalahan)"
   ]
  },
  {
   "cell_type": "code",
   "execution_count": null,
   "metadata": {},
   "outputs": [],
   "source": [
    "print(len(y_test))\n",
    "banyak_kesalahan"
   ]
  },
  {
   "cell_type": "code",
   "execution_count": null,
   "metadata": {},
   "outputs": [],
   "source": [
    "akurasi_training = model_lenet5_optimized.evaluate(x_train,y_train)[1]\n",
    "akurasi_testing = model_lenet5_optimized.evaluate(x_test,y_test)[1]"
   ]
  },
  {
   "cell_type": "code",
   "execution_count": null,
   "metadata": {},
   "outputs": [],
   "source": [
    "print(\"Akurasi training session :\",akurasi_training)\n",
    "print(\"Akurasi testing session :\",akurasi_testing)"
   ]
  },
  {
   "cell_type": "code",
   "execution_count": null,
   "metadata": {},
   "outputs": [],
   "source": []
  }
 ],
 "metadata": {
  "kernelspec": {
   "display_name": "Python 3",
   "language": "python",
   "name": "python3"
  },
  "language_info": {
   "codemirror_mode": {
    "name": "ipython",
    "version": 3
   },
   "file_extension": ".py",
   "mimetype": "text/x-python",
   "name": "python",
   "nbconvert_exporter": "python",
   "pygments_lexer": "ipython3",
   "version": "3.11.5"
  },
  "orig_nbformat": 4
 },
 "nbformat": 4,
 "nbformat_minor": 2
}
