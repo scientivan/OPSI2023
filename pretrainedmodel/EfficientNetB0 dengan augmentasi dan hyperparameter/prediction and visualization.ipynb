{
 "cells": [
  {
   "cell_type": "code",
   "execution_count": 1,
   "metadata": {},
   "outputs": [],
   "source": [
    "import tensorflow as tf\n",
    "from tensorflow import keras\n",
    "import cv2\n",
    "import numpy as np\n",
    "import os"
   ]
  },
  {
   "cell_type": "code",
   "execution_count": 2,
   "metadata": {},
   "outputs": [],
   "source": [
    "model_lenet5 = keras.models.load_model(\"C:/Users/pc/Documents/pythonProjects/OPSI2023/pretrainedmodel/EfficientNetB0 dengan augmentasi dan hyperparameter/efficientnetb0augmented.h5\")"
   ]
  },
  {
   "cell_type": "code",
   "execution_count": 3,
   "metadata": {},
   "outputs": [],
   "source": [
    "IMAGE_SIZE = (100,100)\n",
    "def valid_load_images():\n",
    "    image = []\n",
    "    label = []\n",
    "    image_path = []\n",
    "    VALID_FOLDER_PATH = \"C:/Users/pc/Documents/pythonProjects/OPSI2023/images/valid\" #ada sebanyak 3421 image\n",
    "    for folder_name in os.listdir(VALID_FOLDER_PATH):\n",
    "        for filename in os.listdir(os.path.join(VALID_FOLDER_PATH,folder_name)):\n",
    "            print(filename)\n",
    "            subfolder_path = os.path.join(folder_name,filename)\n",
    "            img = cv2.imread(os.path.join(VALID_FOLDER_PATH,subfolder_path))\n",
    "            img = cv2.resize(img,IMAGE_SIZE)\n",
    "            image.append(img)\n",
    "            label.append(folder_name)\n",
    "            image_path.append(os.path.join(VALID_FOLDER_PATH,subfolder_path))\n",
    "    image = np.array(image)\n",
    "    return image,label"
   ]
  },
  {
   "cell_type": "code",
   "execution_count": 4,
   "metadata": {},
   "outputs": [
    {
     "name": "stdout",
     "output_type": "stream",
     "text": [
      "000108 (7)(1).png\n",
      "000108 (7).png\n",
      "000108 (8)(1).png\n",
      "000108 (8).png\n",
      "000109 (3)(1).png\n",
      "000109 (3).png\n",
      "000109 (4)(1).png\n",
      "000109 (4).png\n",
      "000109 (8)(1).png\n",
      "000109 (8).png\n",
      "000110 (7)(1).png\n",
      "000110 (7).png\n",
      "000111 (2)(1).png\n",
      "000111 (2).png\n",
      "000112 (2)(1).png\n",
      "000112 (2).png\n",
      "000112 (9)(1).png\n",
      "000112 (9).png\n",
      "000113 (3)(1).png\n",
      "000113 (3).png\n",
      "000113(1).png\n",
      "000113.png\n",
      "000114 (10)(1).png\n",
      "000114 (10).png\n",
      "000114(1).png\n",
      "000114.png\n",
      "000115 (2)(1).png\n",
      "000115 (2).png\n",
      "000115 (5)(1).png\n",
      "000115 (5).png\n",
      "000115 (9)(1).png\n",
      "000115 (9).png\n",
      "000115(1).png\n",
      "000115.png\n",
      "000116 (3)(1).png\n",
      "000116 (3).png\n",
      "000116 (5)(1).png\n",
      "000116 (5).png\n",
      "000116 (8)(1).png\n",
      "000116 (8).png\n",
      "000116 (9)(1).png\n",
      "000116 (9).png\n",
      "000117 (6)(1).png\n",
      "000117 (6).png\n",
      "000117(1).png\n",
      "000117.png\n",
      "Malignant case (541).jpg\n",
      "Malignant case (542).jpg\n",
      "Malignant case (543).jpg\n",
      "Malignant case (544).jpg\n",
      "Malignant case (545).jpg\n",
      "Malignant case (546).jpg\n",
      "Malignant case (547).jpg\n",
      "Malignant case (548).jpg\n",
      "Malignant case (549).jpg\n",
      "Malignant case (550).jpg\n",
      "Malignant case (551).jpg\n",
      "Malignant case (552).jpg\n",
      "Malignant case (553).jpg\n",
      "Malignant case (554).jpg\n",
      "Malignant case (555).jpg\n",
      "Malignant case (556).jpg\n",
      "Malignant case (557).jpg\n",
      "Malignant case (558).jpg\n",
      "Malignant case (559).jpg\n",
      "Malignant case (560).jpg\n",
      "Malignant case (561).jpg\n",
      "Bengin case (112).jpg\n",
      "Bengin case (113).jpg\n",
      "Bengin case (114).jpg\n",
      "Bengin case (115).jpg\n",
      "Bengin case (116).jpg\n",
      "Bengin case (117).jpg\n",
      "Bengin case (118).jpg\n",
      "Bengin case (119).jpg\n",
      "Bengin case (120).jpg\n",
      "003828_02_01_174(1).png\n",
      "003828_02_01_174.png\n",
      "004007_01_01_519(1).png\n",
      "004007_01_01_519.png\n",
      "004162_01_01_150(1).png\n",
      "004162_01_01_150.png\n",
      "4 (2)(1).png\n",
      "4 (2).png\n",
      "4 - Copy (2)(1).png\n",
      "4 - Copy (2).png\n",
      "5(1).png\n",
      "5.png\n",
      "6 - Copy (2) - Copy(1).png\n",
      "6 - Copy (2) - Copy.png\n",
      "6 - Copy (3)(1).png\n",
      "6 - Copy (3).png\n",
      "6 - Copy(1).png\n",
      "6 - Copy.png\n",
      "7 - Copy (2)(1).png\n",
      "7 - Copy (2).png\n",
      "7 - Copy (3)(1).png\n",
      "7 - Copy (3).png\n",
      "7(1).png\n",
      "7.png\n",
      "8 - Copy (3)(1).png\n",
      "8 - Copy (3).png\n",
      "Normal case (338).jpg\n",
      "Normal case (339).jpg\n",
      "Normal case (340).jpg\n",
      "Normal case (341).jpg\n",
      "Normal case (342).jpg\n",
      "Normal case (343).jpg\n",
      "Normal case (344).jpg\n",
      "Normal case (345).jpg\n",
      "Normal case (346).jpg\n",
      "Normal case (347).jpg\n",
      "Normal case (348).jpg\n",
      "Normal case (349).jpg\n",
      "Normal case (350).jpg\n",
      "Normal case (351).jpg\n",
      "Normal case (352).jpg\n",
      "Normal case (353).jpg\n",
      "Normal case (354).jpg\n",
      "Normal case (355).jpg\n",
      "Normal case (356).jpg\n",
      "Normal case (357).jpg\n",
      "Normal case (358).jpg\n",
      "Normal case (359).jpg\n",
      "Normal case (360).jpg\n",
      "Normal case (361).jpg\n",
      "Normal case (362).jpg\n",
      "Normal case (363).jpg\n",
      "Normal case (364).jpg\n",
      "Normal case (365).jpg\n",
      "Normal case (366).jpg\n",
      "Normal case (367).jpg\n",
      "Normal case (368).jpg\n",
      "Normal case (369).jpg\n",
      "Normal case (370).jpg\n",
      "Normal case (371).jpg\n",
      "Normal case (372).jpg\n",
      "Normal case (373).jpg\n",
      "Normal case (374).jpg\n",
      "Normal case (375).jpg\n",
      "Normal case (376).jpg\n",
      "Normal case (377).jpg\n",
      "000108 (2)(1).png\n",
      "000108 (2).png\n",
      "000108(1).png\n",
      "000108.png\n",
      "000109(1).png\n",
      "000109.png\n",
      "000110 (2)(1).png\n",
      "000110 (2).png\n",
      "000110(1).png\n",
      "000110.png\n",
      "000111 (2)(1).png\n",
      "000111 (2).png\n",
      "000111(1).png\n",
      "000111.png\n",
      "000112(1).png\n",
      "000112.png\n",
      "000113 (2)(1).png\n",
      "000113 (2).png\n",
      "000113(1).png\n",
      "000113.png\n",
      "000114(1).png\n",
      "000114.png\n",
      "000115 (3)(1).png\n",
      "000115 (3).png\n",
      "000115(1).png\n",
      "000115.png\n",
      "000116(1).png\n",
      "000116.png\n",
      "000118 (2)(1).png\n",
      "000118 (2).png\n",
      "000120(1).png\n",
      "000120.png\n",
      "000122(1).png\n",
      "000122.png\n",
      "000126(1).png\n",
      "000126.png\n",
      "000128(1).png\n",
      "000128.png\n",
      "000130(1).png\n",
      "000130.png\n",
      "000131(1).png\n",
      "000131.png\n",
      "000108 (3)(1).png\n",
      "000108 (3).png\n",
      "000110 (6)(1).png\n",
      "000110 (6).png\n",
      "000111(1).png\n",
      "000111.png\n",
      "000112(1).png\n",
      "000112.png\n",
      "000114 (4)(1).png\n",
      "000114 (4).png\n",
      "000114 (6)(1).png\n",
      "000114 (6).png\n",
      "000115 (2)(1).png\n",
      "000115 (2).png\n",
      "000115 (5)(1).png\n",
      "000115 (5).png\n",
      "000116 (2)(1).png\n",
      "000116 (2).png\n",
      "000117 (4)(1).png\n",
      "000117 (4).png\n",
      "000117 (6)(1).png\n",
      "000117 (6).png\n",
      "000118 (4)(1).png\n",
      "000118 (4).png\n",
      "000118 (5)(1).png\n",
      "000118 (5).png\n",
      "000119 (5)(1).png\n",
      "000119 (5).png\n",
      "000119(1).png\n",
      "000119.png\n"
     ]
    }
   ],
   "source": [
    "valid_image, valid_label = valid_load_images()"
   ]
  },
  {
   "cell_type": "code",
   "execution_count": 5,
   "metadata": {},
   "outputs": [
    {
     "name": "stdout",
     "output_type": "stream",
     "text": [
      "7/7 [==============================] - 3s 198ms/step\n"
     ]
    }
   ],
   "source": [
    "prediction_val_raw = model_lenet5.predict(valid_image)"
   ]
  },
  {
   "cell_type": "code",
   "execution_count": 6,
   "metadata": {},
   "outputs": [
    {
     "name": "stdout",
     "output_type": "stream",
     "text": [
      "DATA KE- 40\n",
      "DATA KE- 41\n",
      "DATA KE- 42\n",
      "DATA KE- 43\n",
      "DATA KE- 78\n",
      "DATA KE- 79\n",
      "DATA KE- 109\n",
      "DATA KE- 112\n",
      "DATA KE- 115\n",
      "DATA KE- 116\n",
      "DATA KE- 118\n",
      "DATA KE- 120\n",
      "DATA KE- 121\n",
      "DATA KE- 124\n",
      "DATA KE- 144\n",
      "DATA KE- 145\n",
      "DATA KE- 146\n",
      "DATA KE- 147\n",
      "DATA KE- 150\n",
      "DATA KE- 151\n",
      "DATA KE- 154\n",
      "DATA KE- 155\n",
      "DATA KE- 156\n",
      "DATA KE- 157\n",
      "DATA KE- 158\n",
      "DATA KE- 159\n",
      "DATA KE- 160\n",
      "DATA KE- 161\n",
      "28\n"
     ]
    }
   ],
   "source": [
    "jenis_kanker = [\"Adenocarcinoma (Ganas)\",\"Kanker Ganas\",\"Kanker Jinak\", \"Sehat\", \"Sel Besar Karsinoma (Ganas)\", \"Sel Kanker Skuamous (Ganas)\"]\n",
    "banyak_kesalahan = 0\n",
    "for i in  range(len(prediction_val_raw)):\n",
    "    if jenis_kanker[np.argmax(prediction_val_raw[i])] != valid_label[i]:\n",
    "        banyak_kesalahan += 1\n",
    "        print(\"DATA KE-\", i)\n",
    "        # print(\"Prediksi: \" + jenis_kanker[np.argmax(prediction_val_raw[i])])\n",
    "        # print(\"Kunci Jawaban :\", valid_label[i])\n",
    "        # print()\n",
    "print(banyak_kesalahan)"
   ]
  },
  {
   "cell_type": "code",
   "execution_count": 7,
   "metadata": {},
   "outputs": [
    {
     "name": "stdout",
     "output_type": "stream",
     "text": [
      "Akurasi pada sesi validasi adalah 0.8691588785046729\n"
     ]
    }
   ],
   "source": [
    "print(\"Akurasi pada sesi validasi adalah \" + str((len(valid_image) - banyak_kesalahan) / len(valid_image)))"
   ]
  },
  {
   "cell_type": "code",
   "execution_count": 8,
   "metadata": {},
   "outputs": [
    {
     "data": {
      "text/plain": [
       "1"
      ]
     },
     "execution_count": 8,
     "metadata": {},
     "output_type": "execute_result"
    }
   ],
   "source": [
    "from sklearn.preprocessing import OneHotEncoder\n",
    "label_encoder = OneHotEncoder()\n",
    "valid_label_index = np.reshape(valid_label,(-1,1))\n",
    "valid_label_index = label_encoder.fit_transform(valid_label_index).toarray()\n",
    "np.argmax(valid_label_index[50])"
   ]
  },
  {
   "cell_type": "code",
   "execution_count": 9,
   "metadata": {},
   "outputs": [],
   "source": [
    "prediction_val_index = []\n",
    "valid_label_indexs = []\n",
    "for i in range (len(prediction_val_raw)):\n",
    "    prediction_val_index.append(np.argmax(prediction_val_raw[i]))\n",
    "\n",
    "for j in range(len(valid_label_index)):\n",
    "    valid_label_indexs.append(np.argmax(valid_label_index[j]))"
   ]
  },
  {
   "cell_type": "code",
   "execution_count": 10,
   "metadata": {},
   "outputs": [
    {
     "name": "stdout",
     "output_type": "stream",
     "text": [
      "              precision    recall  f1-score   support\n",
      "\n",
      "           0       0.88      0.91      0.89        46\n",
      "           1       0.91      1.00      0.95        21\n",
      "           2       0.53      1.00      0.69         9\n",
      "           3       1.00      0.85      0.92        66\n",
      "           4       1.00      0.67      0.80        42\n",
      "           5       0.71      1.00      0.83        30\n",
      "\n",
      "    accuracy                           0.87       214\n",
      "   macro avg       0.84      0.90      0.85       214\n",
      "weighted avg       0.90      0.87      0.87       214\n",
      "\n"
     ]
    }
   ],
   "source": [
    "from sklearn.metrics import classification_report\n",
    "print(classification_report(valid_label_indexs,prediction_val_index))"
   ]
  },
  {
   "cell_type": "code",
   "execution_count": 11,
   "metadata": {},
   "outputs": [
    {
     "name": "stdout",
     "output_type": "stream",
     "text": [
      "214\n"
     ]
    },
    {
     "data": {
      "text/plain": [
       "214"
      ]
     },
     "execution_count": 11,
     "metadata": {},
     "output_type": "execute_result"
    }
   ],
   "source": [
    "print(len(prediction_val_index))\n",
    "len(valid_label_indexs)"
   ]
  },
  {
   "cell_type": "code",
   "execution_count": 12,
   "metadata": {},
   "outputs": [
    {
     "name": "stdout",
     "output_type": "stream",
     "text": [
      "[[42  0  0  0  0  4]\n",
      " [ 0 21  0  0  0  0]\n",
      " [ 0  0  9  0  0  0]\n",
      " [ 0  2  8 56  0  0]\n",
      " [ 6  0  0  0 28  8]\n",
      " [ 0  0  0  0  0 30]]\n"
     ]
    }
   ],
   "source": [
    "from sklearn.metrics import confusion_matrix\n",
    "cm = confusion_matrix(valid_label_indexs,prediction_val_index)\n",
    "print(cm)"
   ]
  },
  {
   "cell_type": "code",
   "execution_count": 13,
   "metadata": {},
   "outputs": [
    {
     "data": {
      "text/plain": [
       "Text(208.22222222222223, 0.5, 'Aktual')"
      ]
     },
     "execution_count": 13,
     "metadata": {},
     "output_type": "execute_result"
    },
    {
     "data": {
      "image/png": "[encoded data removed]",
      "text/plain": [
       "<Figure size 1900x1700 with 2 Axes>"
      ]
     },
     "metadata": {},
     "output_type": "display_data"
    }
   ],
   "source": [
    "import seaborn as sns\n",
    "import matplotlib.pyplot as plt\n",
    "\n",
    "fig = plt.figure(figsize=(19,17))\n",
    "ax = plt.gca()\n",
    "\n",
    "sns.set(font_scale=1.4) # for label size\n",
    "sns.heatmap(cm, annot=True) # font size\n",
    "\n",
    "ax.xaxis.set_ticklabels(jenis_kanker,size=10) \n",
    "ax.yaxis.set_ticklabels(jenis_kanker,size=10)\n",
    "\n",
    "ax.set_xlabel('Prediksi',fontsize=30)\n",
    "ax.set_ylabel('Aktual',fontsize=30) \n"
   ]
  },
  {
   "cell_type": "code",
   "execution_count": 14,
   "metadata": {},
   "outputs": [
    {
     "name": "stdout",
     "output_type": "stream",
     "text": [
      "              precision    recall  f1-score   support\n",
      "\n",
      "           0       0.88      0.91      0.89        46\n",
      "           1       0.91      1.00      0.95        21\n",
      "           2       0.53      1.00      0.69         9\n",
      "           3       1.00      0.85      0.92        66\n",
      "           4       1.00      0.67      0.80        42\n",
      "           5       0.71      1.00      0.83        30\n",
      "\n",
      "    accuracy                           0.87       214\n",
      "   macro avg       0.84      0.90      0.85       214\n",
      "weighted avg       0.90      0.87      0.87       214\n",
      "\n"
     ]
    }
   ],
   "source": [
    "from sklearn.metrics import classification_report\n",
    "print(classification_report(valid_label_indexs,prediction_val_index))"
   ]
  },
  {
   "cell_type": "code",
   "execution_count": null,
   "metadata": {},
   "outputs": [],
   "source": []
  }
 ],
 "metadata": {
  "kernelspec": {
   "display_name": "Python 3",
   "language": "python",
   "name": "python3"
  },
  "language_info": {
   "codemirror_mode": {
    "name": "ipython",
    "version": 3
   },
   "file_extension": ".py",
   "mimetype": "text/x-python",
   "name": "python",
   "nbconvert_exporter": "python",
   "pygments_lexer": "ipython3",
   "version": "3.11.5"
  },
  "orig_nbformat": 4
 },
 "nbformat": 4,
 "nbformat_minor": 2
}
